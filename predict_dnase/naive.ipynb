{
 "cells": [
  {
   "cell_type": "code",
   "execution_count": 1,
   "metadata": {
    "collapsed": true
   },
   "outputs": [],
   "source": [
    "from sklearn.linear_model import LogisticRegression \n",
    "from sklearn.linear_model import LogisticRegressionCV\n",
    "from sklearn.preprocessing import normalize\n",
    "from sklearn.metrics import roc_curve\n",
    "import matplotlib.pyplot as plt\n",
    "from sklearn.metrics import roc_auc_score\n",
    "import numpy as np\n",
    "import pandas as pd\n",
    "\n",
    "X_raw = np.loadtxt(\"training_data/A549/rep2_new/ENCFF135JRM_all_matrix.tsv\", delimiter='\\t')\n",
    "X_size = X_raw.shape[0]\n",
    "y = np.zeros((X_size, ), dtype=np.uint8)\n",
    "\n",
    "shuffle_ids = np.random.permutation(X_size)\n",
    "\n",
    "for i in range(X_size/2):\n",
    "    y[i] = 1\n",
    "\n",
    "X = normalize(X_raw)\n",
    "X = X[shuffle_ids]\n",
    "y = y[shuffle_ids]\n",
    "\n",
    "X_train = X[:X_size/2]\n",
    "y_train = y[:X_size/2]\n",
    "\n",
    "X_test = X[X_size/2:]\n",
    "y_test = y[X_size/2:]"
   ]
  },
  {
   "cell_type": "code",
   "execution_count": 2,
   "metadata": {
    "collapsed": true
   },
   "outputs": [],
   "source": [
    "lr = LogisticRegression()\n",
    "lr.fit(X_train, y_train)\n",
    "results = lr.predict(X_test)"
   ]
  },
  {
   "cell_type": "code",
   "execution_count": 3,
   "metadata": {},
   "outputs": [
    {
     "name": "stdout",
     "output_type": "stream",
     "text": [
      "Training set score = 0.859569515199\n",
      "Test set score = 0.858388718329\n",
      "False rate = 0.141611281671\n",
      "False positive rate = 0.0624472858541\n",
      "False negative rate = 0.0791639958166\n"
     ]
    }
   ],
   "source": [
    "diff = results - y_test\n",
    "total = 0\n",
    "false_p = 0\n",
    "false_n = 0\n",
    "for i in diff:\n",
    "    if i == 255:\n",
    "        false_n += 1\n",
    "        total += 1\n",
    "    if i == 1:\n",
    "        false_p += 1\n",
    "        total += i\n",
    "\n",
    "print \"Training set score =\", lr.score(X_train, y_train)\n",
    "print \"Test set score =\", lr.score(X_test, y_test)\n",
    "\n",
    "print \"False rate =\", float(total)/(X_size/2)\n",
    "print \"False positive rate =\", float(false_p)/(X_size/2)\n",
    "print \"False negative rate =\",float(false_n)/(X_size/2)"
   ]
  },
  {
   "cell_type": "code",
   "execution_count": 4,
   "metadata": {},
   "outputs": [],
   "source": [
    "coefs = lr.coef_\n",
    "motif_list = pd.read_csv(\"human_pwm_ids_sorted.txt\", sep=' ', header=None)\n",
    "sort_ids = np.flip(np.argsort(coefs), 1)\n",
    "motif_list['coeff'] = coefs.T\n",
    "# print motif_list.iloc[sort_ids[0][:50], [1,2,3]]\n",
    "\n",
    "save_results = motif_list.iloc[sort_ids[0], [1,2,3]]\n",
    "save_results.to_csv(\"training_data/A549/rep2_new/coeff.tsv\", sep='\\t')"
   ]
  },
  {
   "cell_type": "code",
   "execution_count": 6,
   "metadata": {},
   "outputs": [
    {
     "name": "stdout",
     "output_type": "stream",
     "text": [
      "Score: 0.858776694444\n"
     ]
    },
    {
     "data": {
      "image/png": "[encoded data removed]",
      "text/plain": [
       "<matplotlib.figure.Figure at 0x110c73850>"
      ]
     },
     "metadata": {},
     "output_type": "display_data"
    },
    {
     "name": "stdout",
     "output_type": "stream",
     "text": [
      "0.926878117451\n"
     ]
    }
   ],
   "source": [
    "clfcv = LogisticRegressionCV(cv=5)\n",
    "clfcv.fit(X_train, y_train)\n",
    "print \"Score:\", clfcv.score(X_test, y_test)\n",
    "\n",
    "y_score = clfcv.predict_proba(X_test)\n",
    "fpr, tpr, thresholds = roc_curve(y_test, y_score[:,1])\n",
    "\n",
    "plt.plot(fpr, tpr)\n",
    "plt.title(\"A549 rep 2\")\n",
    "plt.show()\n",
    "print roc_auc_score(y_test, y_score[:, 1])"
   ]
  },
  {
   "cell_type": "code",
   "execution_count": null,
   "metadata": {
    "collapsed": true
   },
   "outputs": [],
   "source": []
  }
 ],
 "metadata": {
  "kernelspec": {
   "display_name": "Python 2",
   "language": "python",
   "name": "python2"
  },
  "language_info": {
   "codemirror_mode": {
    "name": "ipython",
    "version": 2
   },
   "file_extension": ".py",
   "mimetype": "text/x-python",
   "name": "python",
   "nbconvert_exporter": "python",
   "pygments_lexer": "ipython2",
   "version": "2.7.14"
  }
 },
 "nbformat": 4,
 "nbformat_minor": 2
}

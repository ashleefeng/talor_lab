{
 "cells": [
  {
   "cell_type": "code",
   "execution_count": 72,
   "metadata": {},
   "outputs": [],
   "source": [
    "from sklearn.linear_model import LogisticRegression \n",
    "import numpy as np\n",
    "\n",
    "X_raw = np.loadtxt(\"all_matrix.tsv\", delimiter='\\t')\n",
    "\n",
    "lr = LogisticRegression()"
   ]
  },
  {
   "cell_type": "code",
   "execution_count": 73,
   "metadata": {
    "collapsed": true
   },
   "outputs": [],
   "source": [
    "shuffle_ids = np.random.permutation(X_size)"
   ]
  },
  {
   "cell_type": "code",
   "execution_count": 82,
   "metadata": {},
   "outputs": [],
   "source": [
    "from sklearn.preprocessing import normalize\n",
    "\n",
    "X_size = X_raw.shape[0]\n",
    "\n",
    "y = np.zeros((X_size, ), dtype=np.uint8)\n",
    "\n",
    "for i in range(X_size/2):\n",
    "    y[i] = 1\n",
    "\n",
    "X = normalize(X_raw)\n",
    "X = X[shuffle_ids]\n",
    "y = y[shuffle_ids]\n",
    "\n",
    "X_train = X[:X_size/2]\n",
    "y_train = y[:X_size/2]\n",
    "\n",
    "X_test = X[X_size/2:]\n",
    "y_test = y[X_size/2:]"
   ]
  },
  {
   "cell_type": "code",
   "execution_count": 83,
   "metadata": {
    "scrolled": true
   },
   "outputs": [
    {
     "data": {
      "text/plain": [
       "LogisticRegression(C=1.0, class_weight=None, dual=False, fit_intercept=True,\n",
       "          intercept_scaling=1, max_iter=100, multi_class='ovr', n_jobs=1,\n",
       "          penalty='l2', random_state=None, solver='liblinear', tol=0.0001,\n",
       "          verbose=0, warm_start=False)"
      ]
     },
     "execution_count": 83,
     "metadata": {},
     "output_type": "execute_result"
    }
   ],
   "source": [
    "lr.fit(X_train, y_train)"
   ]
  },
  {
   "cell_type": "code",
   "execution_count": 84,
   "metadata": {},
   "outputs": [],
   "source": [
    "results = lr.predict(X_test)"
   ]
  },
  {
   "cell_type": "code",
   "execution_count": 90,
   "metadata": {},
   "outputs": [
    {
     "name": "stdout",
     "output_type": "stream",
     "text": [
      "0.143736716035\n",
      "0.0630545528154\n",
      "0.0806821632199\n"
     ]
    }
   ],
   "source": [
    "diff = results - y_test\n",
    "total = 0\n",
    "false_p = 0\n",
    "false_n = 0\n",
    "for i in diff:\n",
    "    if i == 255:\n",
    "        false_n += 1\n",
    "        total += 1\n",
    "    if i == 1:\n",
    "        false_p += 1\n",
    "        total += i\n",
    "\n",
    "print float(total)/(X_size/2)\n",
    "print float(false_p)/(X_size/2)\n",
    "print float(false_n)/(X_size/2)"
   ]
  },
  {
   "cell_type": "code",
   "execution_count": 86,
   "metadata": {},
   "outputs": [
    {
     "data": {
      "text/plain": [
       "0.85626328396477847"
      ]
     },
     "execution_count": 86,
     "metadata": {},
     "output_type": "execute_result"
    }
   ],
   "source": [
    "lr.score(X_test, y_test)"
   ]
  },
  {
   "cell_type": "code",
   "execution_count": 87,
   "metadata": {},
   "outputs": [
    {
     "data": {
      "text/plain": [
       "0.85820316453560941"
      ]
     },
     "execution_count": 87,
     "metadata": {},
     "output_type": "execute_result"
    }
   ],
   "source": [
    "lr.score(X_train, y_train)"
   ]
  },
  {
   "cell_type": "code",
   "execution_count": 140,
   "metadata": {},
   "outputs": [
    {
     "data": {
      "text/plain": [
       "(59282,)"
      ]
     },
     "execution_count": 140,
     "metadata": {},
     "output_type": "execute_result"
    }
   ],
   "source": [
    "y_test.shape"
   ]
  },
  {
   "cell_type": "code",
   "execution_count": 136,
   "metadata": {},
   "outputs": [
    {
     "name": "stdout",
     "output_type": "stream",
     "text": [
      "            1                   2      coeff\n",
      "125  MA0139.1                CTCF  13.170876\n",
      "480  MA1102.1               CTCFL   4.765981\n",
      "197  MA0506.1                NRF1   4.756761\n",
      "185  MA0490.1                JUNB   3.244621\n",
      "112  MA0119.1          NFIC::TLX1   3.145975\n",
      "421  MA0833.1                ATF4   2.996172\n",
      "426  MA0838.1               CEBPG   2.983627\n",
      "138  MA0153.2               HNF1B   2.886430\n",
      "324  MA0732.1                EGR3   2.883915\n",
      "519  MA1141.1           FOS::JUND   2.858019\n",
      "52   MA0060.1                NFYA   2.675266\n",
      "174  MA0476.1                 FOS   2.614362\n",
      "402  MA0812.1       TFAP2B(var.2)   2.531983\n",
      "18   MA0028.1                ELK1   2.503965\n",
      "166  MA0470.1                E2F4   2.429829\n",
      "513  MA1135.1          FOSB::JUNB   2.365799\n",
      "134  MA0149.1          EWSR1-FLI1   2.251118\n",
      "216  MA0527.1              ZBTB33   2.237993\n",
      "1    MA0003.1              TFAP2A   2.225375\n",
      "342  MA0751.1                ZIC4   2.131353\n",
      "479  MA1101.1               BACH2   2.122496\n",
      "133  MA0148.3               FOXA1   2.096463\n",
      "184  MA0489.1          JUN(var.2)   2.036900\n",
      "13   MA0024.1                E2F1   2.021615\n",
      "515  MA1137.1         FOSL1::JUNB   1.992798\n",
      "48   MA0058.1                 MAX   1.988995\n",
      "93   MA0102.3               CEBPA   1.987291\n",
      "69   MA0079.2                 SP1   1.973188\n",
      "10   MA0018.1               CREB1   1.961107\n",
      "15   MA0024.3                E2F1   1.950628\n",
      "331  MA0740.1               KLF14   1.886942\n",
      "500  MA1122.1               TFDP1   1.865237\n",
      "282  MA0685.1                 SP4   1.802824\n",
      "240  MA0638.1               CREB3   1.770923\n",
      "518  MA1140.1         JUNB(var.2)   1.718492\n",
      "506  MA1128.1          FOSL1::JUN   1.649785\n",
      "14   MA0024.2                E2F1   1.646440\n",
      "356  MA0765.1                ETV5   1.605468\n",
      "175  MA0477.1               FOSL1   1.583562\n",
      "398  MA0808.1               TEAD3   1.572144\n",
      "369  MA0779.1                PAX1   1.544742\n",
      "438  MA0852.2               FOXK1   1.531618\n",
      "521  MA1143.1  FOSL1::JUND(var.2)   1.524237\n",
      "80   MA0090.1               TEAD1   1.508848\n",
      "523  MA1145.1  FOSL2::JUND(var.2)   1.499576\n",
      "206  MA0516.1                 SP2   1.494770\n",
      "172  MA0475.1                FLI1   1.493093\n",
      "88   MA0098.3                ETS1   1.484257\n",
      "169  MA0473.1                ELF1   1.470239\n",
      "249  MA0648.1                 GSC   1.467458\n"
     ]
    }
   ],
   "source": [
    "import pandas as pd\n",
    "coefs = lr.coef_\n",
    "motif_list = pd.read_csv(\"human_pwm_ids_sorted.txt\", sep=' ', header=None)\n",
    "sort_ids = np.flip(np.argsort(coefs), 1)\n",
    "motif_list['coeff'] = coefs.T\n",
    "print motif_list.iloc[sort_ids[0][:50], [1,2,3]]"
   ]
  },
  {
   "cell_type": "code",
   "execution_count": 139,
   "metadata": {},
   "outputs": [],
   "source": [
    "save_results = motif_list.iloc[sort_ids[0], [1,2,3]]\n",
    "save_results.to_csv(\"coeff.tsv\", sep='\\t')"
   ]
  },
  {
   "cell_type": "code",
   "execution_count": 143,
   "metadata": {},
   "outputs": [
    {
     "data": {
      "text/plain": [
       "LogisticRegressionCV(Cs=10, class_weight=None, cv=5, dual=False,\n",
       "           fit_intercept=True, intercept_scaling=1.0, max_iter=100,\n",
       "           multi_class='ovr', n_jobs=1, penalty='l2', random_state=None,\n",
       "           refit=True, scoring=None, solver='lbfgs', tol=0.0001, verbose=0)"
      ]
     },
     "execution_count": 143,
     "metadata": {},
     "output_type": "execute_result"
    }
   ],
   "source": [
    "from sklearn.linear_model import LogisticRegressionCV\n",
    "clfcv = LogisticRegressionCV(cv=5)\n",
    "clfcv.fit(X_train, y_train)"
   ]
  },
  {
   "cell_type": "code",
   "execution_count": 149,
   "metadata": {},
   "outputs": [
    {
     "data": {
      "text/plain": [
       "1.0"
      ]
     },
     "execution_count": 149,
     "metadata": {},
     "output_type": "execute_result"
    }
   ],
   "source": [
    "clfcv.coef_.shape\n",
    "lr.C"
   ]
  },
  {
   "cell_type": "code",
   "execution_count": 150,
   "metadata": {},
   "outputs": [
    {
     "data": {
      "text/plain": [
       "0.85651631186532173"
      ]
     },
     "execution_count": 150,
     "metadata": {},
     "output_type": "execute_result"
    }
   ],
   "source": [
    "clfcv.score(X_test, y_test)"
   ]
  },
  {
   "cell_type": "code",
   "execution_count": 157,
   "metadata": {},
   "outputs": [],
   "source": [
    "from sklearn.metrics import roc_curve\n",
    "y_score = clfcv.predict_proba(X_test)\n",
    "fpr, tpr, thresholds = roc_curve(y_test, y_score[:,1])"
   ]
  },
  {
   "cell_type": "code",
   "execution_count": 161,
   "metadata": {},
   "outputs": [
    {
     "data": {
      "image/png": "[encoded data removed]",
      "text/plain": [
       "<matplotlib.figure.Figure at 0x1173aae10>"
      ]
     },
     "metadata": {},
     "output_type": "display_data"
    },
    {
     "name": "stdout",
     "output_type": "stream",
     "text": [
      "0.925788796282\n"
     ]
    }
   ],
   "source": [
    "import matplotlib.pyplot as plt\n",
    "from sklearn.metrics import roc_auc_score\n",
    "plt.plot(fpr, tpr)\n",
    "plt.show()\n",
    "print roc_auc_score(y_test, y_score[:, 1])"
   ]
  },
  {
   "cell_type": "code",
   "execution_count": null,
   "metadata": {
    "collapsed": true
   },
   "outputs": [],
   "source": []
  }
 ],
 "metadata": {
  "kernelspec": {
   "display_name": "Python 2",
   "language": "python",
   "name": "python2"
  },
  "language_info": {
   "codemirror_mode": {
    "name": "ipython",
    "version": 2
   },
   "file_extension": ".py",
   "mimetype": "text/x-python",
   "name": "python",
   "nbconvert_exporter": "python",
   "pygments_lexer": "ipython2",
   "version": "2.7.14"
  }
 },
 "nbformat": 4,
 "nbformat_minor": 2
}

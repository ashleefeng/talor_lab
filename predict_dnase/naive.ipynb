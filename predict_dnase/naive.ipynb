{
 "cells": [
  {
   "cell_type": "code",
   "execution_count": 1,
   "metadata": {
    "collapsed": true
   },
   "outputs": [],
   "source": [
    "from sklearn.linear_model import LogisticRegression \n",
    "from sklearn.linear_model import LogisticRegressionCV\n",
    "from sklearn.preprocessing import normalize\n",
    "from sklearn.metrics import roc_curve\n",
    "import matplotlib.pyplot as plt\n",
    "from sklearn.metrics import roc_auc_score\n",
    "import numpy as np\n",
    "import pandas as pd\n",
    "\n",
    "MATRIX_FILE = \"training_data/K562/rep2/ENCFF144PUF_all_matrix.tsv\"\n",
    "NUM_TRUE_LABELS = 171834\n",
    "COEFF_OUTPUT = \"training_data/K562/rep2/coeff.tsv\"\n",
    "PLOT_1_TITLE = \"K562 rep 2 LogisticReg, auc \"\n",
    "PLOT_1_OUTPUT = \"K562_rep2_roc.png\"\n",
    "PLOT_CV_TITLE = \"K562 rep 2 LogisticRegCV, auc \"\n",
    "PLOT_CV_OUTPUT = \"K562_rep2_roc_CV.png\"\n",
    "\n",
    "\n",
    "X_raw = np.loadtxt(MATRIX_FILE, delimiter='\\t')\n",
    "X_size = X_raw.shape[0]\n",
    "y = np.zeros((X_size, ), dtype=np.uint8)\n",
    "\n",
    "shuffle_ids = np.random.permutation(X_size)\n",
    "\n",
    "for i in range(NUM_TRUE_LABELS):\n",
    "    y[i] = 1\n",
    "\n",
    "X = normalize(X_raw)\n",
    "X = X[shuffle_ids]\n",
    "y = y[shuffle_ids]\n",
    "\n",
    "X_train = X[:X_size/2]\n",
    "y_train = y[:X_size/2]\n",
    "\n",
    "X_test = X[X_size/2:]\n",
    "y_test = y[X_size/2:]"
   ]
  },
  {
   "cell_type": "code",
   "execution_count": null,
   "metadata": {
    "collapsed": true
   },
   "outputs": [],
   "source": [
    "def "
   ]
  },
  {
   "cell_type": "code",
   "execution_count": 2,
   "metadata": {
    "collapsed": true
   },
   "outputs": [],
   "source": [
    "lr = LogisticRegression(C=1.0)\n",
    "lr.fit(X_train, y_train)\n",
    "results = lr.predict(X_test)"
   ]
  },
  {
   "cell_type": "code",
   "execution_count": 3,
   "metadata": {},
   "outputs": [
    {
     "name": "stdout",
     "output_type": "stream",
     "text": [
      "Training set score = 0.801612757635\n",
      "Test set score = 0.798262083574\n",
      "False rate = 0.201739130435\n",
      "False positive rate = 0.10534677298\n",
      "False negative rate = 0.0963923574545\n"
     ]
    }
   ],
   "source": [
    "diff = results - y_test\n",
    "total = 0\n",
    "false_p = 0\n",
    "false_n = 0\n",
    "for i in diff:\n",
    "    if i == 255:\n",
    "        false_n += 1\n",
    "        total += 1\n",
    "    if i == 1:\n",
    "        false_p += 1\n",
    "        total += i\n",
    "\n",
    "print \"Training set score =\", lr.score(X_train, y_train)\n",
    "print \"Test set score =\", lr.score(X_test, y_test)\n",
    "\n",
    "print \"False rate =\", float(total)/(X_size/2)\n",
    "print \"False positive rate =\", float(false_p)/(X_size/2)\n",
    "print \"False negative rate =\",float(false_n)/(X_size/2)"
   ]
  },
  {
   "cell_type": "code",
   "execution_count": 4,
   "metadata": {
    "collapsed": true
   },
   "outputs": [],
   "source": [
    "coefs = lr.coef_\n",
    "motif_list = pd.read_csv(\"human_pwm_ids_sorted.txt\", sep=' ', header=None)\n",
    "sort_ids = np.flip(np.argsort(coefs), 1)\n",
    "motif_list['coeff'] = coefs.T\n",
    "# print motif_list.iloc[sort_ids[0][:50], [1,2,3]]\n",
    "\n",
    "save_results = motif_list.iloc[sort_ids[0], [1,2,3]]\n",
    "save_results.to_csv(COEFF_OUTPUT, sep='\\t')"
   ]
  },
  {
   "cell_type": "code",
   "execution_count": 5,
   "metadata": {
    "collapsed": true
   },
   "outputs": [],
   "source": [
    "y_score = lr.predict_proba(X_test)\n",
    "fpr, tpr, thresholds = roc_curve(y_test, y_score[:,1])\n",
    "auc = roc_auc_score(y_test, y_score[:, 1])"
   ]
  },
  {
   "cell_type": "code",
   "execution_count": 6,
   "metadata": {},
   "outputs": [
    {
     "data": {
      "image/png": "[encoded data removed]",
      "text/plain": [
       "<matplotlib.figure.Figure at 0x108a8b450>"
      ]
     },
     "metadata": {},
     "output_type": "display_data"
    }
   ],
   "source": [
    "plt.plot(fpr, tpr)\n",
    "PLOT_1_TITLE = PLOT_1_TITLE + \"%.4f\" %auc\n",
    "plt.title(PLOT_1_TITLE)\n",
    "plt.savefig(PLOT_1_OUTPUT)\n",
    "plt.show()"
   ]
  },
  {
   "cell_type": "code",
   "execution_count": 7,
   "metadata": {},
   "outputs": [
    {
     "name": "stdout",
     "output_type": "stream",
     "text": [
      "Score: 0.798274119006\n"
     ]
    }
   ],
   "source": [
    "clfcv = LogisticRegressionCV(cv=5)\n",
    "clfcv.fit(X_train, y_train)\n",
    "print \"Score:\", clfcv.score(X_test, y_test)\n",
    "\n",
    "y_score = clfcv.predict_proba(X_test)\n",
    "fpr, tpr, thresholds = roc_curve(y_test, y_score[:,1])"
   ]
  },
  {
   "cell_type": "code",
   "execution_count": 8,
   "metadata": {},
   "outputs": [
    {
     "data": {
      "image/png": "[encoded data removed]",
      "text/plain": [
       "<matplotlib.figure.Figure at 0x10cfcf250>"
      ]
     },
     "metadata": {},
     "output_type": "display_data"
    }
   ],
   "source": [
    "auc = roc_auc_score(y_test, y_score[:, 1])\n",
    "\n",
    "plt.plot(fpr, tpr)\n",
    "PLOT_CV_TITLE = PLOT_CV_TITLE + \"%.4f\" %auc\n",
    "plt.title(PLOT_CV_TITLE)\n",
    "plt.savefig(PLOT_CV_OUTPUT)\n",
    "plt.show()"
   ]
  },
  {
   "cell_type": "code",
   "execution_count": 9,
   "metadata": {},
   "outputs": [
    {
     "data": {
      "text/plain": [
       "array([ 2.7825594])"
      ]
     },
     "execution_count": 9,
     "metadata": {},
     "output_type": "execute_result"
    }
   ],
   "source": [
    "clfcv.C_"
   ]
  },
  {
   "cell_type": "code",
   "execution_count": null,
   "metadata": {
    "collapsed": true
   },
   "outputs": [],
   "source": []
  }
 ],
 "metadata": {
  "kernelspec": {
   "display_name": "Python 2",
   "language": "python",
   "name": "python2"
  },
  "language_info": {
   "codemirror_mode": {
    "name": "ipython",
    "version": 2
   },
   "file_extension": ".py",
   "mimetype": "text/x-python",
   "name": "python",
   "nbconvert_exporter": "python",
   "pygments_lexer": "ipython2",
   "version": "2.7.14"
  }
 },
 "nbformat": 4,
 "nbformat_minor": 2
}
